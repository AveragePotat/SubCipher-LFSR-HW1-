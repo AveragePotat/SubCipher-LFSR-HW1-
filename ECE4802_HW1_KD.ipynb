{
 "cells": [
  {
   "attachments": {},
   "cell_type": "markdown",
   "metadata": {},
   "source": [
    "# ECE 4802 Homework 1\n",
    "\n",
    "**Created by: Kena Dudac (KD)**<br>\n",
    "**Created on: 2023-03-23**<br>\n",
    ">**Last Editted on: 2023-03-24** "
   ]
  },
  {
   "cell_type": "code",
   "execution_count": null,
   "metadata": {},
   "outputs": [],
   "source": [
    "#imported Libraries"
   ]
  },
  {
   "attachments": {},
   "cell_type": "markdown",
   "metadata": {},
   "source": [
    "## Question 1: \n",
    "**The ciphertext printed below was encrypted using a substitution cipher. The objective is to decrypt the ciphertext without knowledge of the key.**"
   ]
  },
  {
   "attachments": {},
   "cell_type": "markdown",
   "metadata": {},
   "source": [
    "### Part a: \n",
    "**Provide the relative frequency of all letters A...Z in the ciphertext.**\n"
   ]
  },
  {
   "cell_type": "code",
   "execution_count": 2,
   "metadata": {},
   "outputs": [
    {
     "name": "stdout",
     "output_type": "stream",
     "text": [
      "Letter frequency percentage in the ciphertext is: \n",
      " {'C': '14%', 'K': '4%', 'L': '5%', 'B': '9%', 'A': '7%', 'E': '5%', 'D': '8%', ' ': '17%', 'G': '8%', 'J': '4%', 'F': '7%', 'N': '2%', 'S': '2%', 'M': '3%', 'Q': '2%', 'I': '6%', 'U': '1%', 'H': '4%', '\\n': '1%', 'O': '2%', 'V': '1%', 'R': '1%', 'T': '1%', 'P': '2%', '-': '0%', 'Y': '0%', ';': '0%'}\n"
     ]
    }
   ],
   "source": [
    "# initializing ciphertext\n",
    "cipherText = '''CKCLBAELDK DGJ LFNSMBCA CGQEGCCAI JCUCKFS DGJ LACDBC SAFJMLBI BHDB LHDGQC BHC\n",
    "OFAKJ DGJ NDVC FMA KEUCI CDIECA BHC LCKK SHFGCI OC JCSCGJ FG BHC LFNSMBCAI MICJ EG\n",
    "GDBEFGDK ICLMAEBR DGJ BHC CKCLBAELDK IRIBCNI BHDB NDVC FMA LDAI FSCADBC OCAC DKK\n",
    "LACDBCJ TR CKCLBAELDK DGJ LFNSMBCA CGQEGCCAI DB OSE OC VCCS BHDB SAFQACII\n",
    "NFUEGQ PFAODAJ OEBH FMA EGGFUDBEUC ACICDALH DGJ FMB-FP-BHC TFY DSSAFDLHCI BHC\n",
    "JCSDABNCGB FP CKCLBAELDK DGJ LFNSMBCA CGQEGCCAEGQ DB OSE LHDKKCGQCI IBMJCGBI\n",
    "BF SMIH BHCNICKUCI BF MGJCAIBDGJ IFLECBRI DGJ BCLHGFKFQRI LFNSKCY EIIMCI EG D\n",
    "TAFDJCA LFGBCYB BHDG OHDBI EG PAFGB FP BHCN OC ODGB FMA IBMJCGBI OHCBHCA BHCR\n",
    "DAC CDAGEGQ DG MGJCAQADJMDBC NEGFA FA D JFLBFADBC BF BDLVKC IFLECBRI NFIB\n",
    "SACIIEGQ SAFTKCNI DGJ MGLFUCA GCO ODRI FP IFKUEGQ BHCN OHCBHCA EBI JCUCKFSEGQ\n",
    "IRIBCNI BHDB LDG KFLDBC PEACPEQHBCAI EG BHC NEJJKC FP D TMAGEGQ TMEKJEGQ FA\n",
    "LACDBEGQ GCMAFSAFIBHCBELI BHDB KFFV DGJ PMGLBEFG KEVC GDBMADK KENTI FMA\n",
    "PDLMKBR DGJ IBMJCGBI DAC DB BHC PAFGB CJQC FP ACNDAVDTKC EGGFUDBEFG OHEKC\n",
    "DJUDGLEGQ BCLHGFKFQECI EI DB FMA LFAC OC DKIF BDVC HMNDG LFGGCLBEFGI UCAR\n",
    "ICAEFMIKR EG CLC OC SAEJC FMAICKUCI FG BHC PDNEKR-KEVC DBNFISHCAC OC LMKBEUDBC;\n",
    "PDLMKBR IBMJCGBI DGJ IBDPP CGLFMADQC CDLH FBHCAI CUCAR IMLLCII DGJ DAC BHCAC PFA\n",
    "BHC LHDKKCGQCI TFBH EG BHC LKDIIAFFN DGJ EG KEPC'''\n",
    "cipherText2 = cipherText.replace(\" \", \"\")\n",
    "# length of cipher text\n",
    "cipher_len = len(cipherText2)\n",
    "# initializing empty variables\n",
    "az_freq = {}\n",
    "\n",
    "\n",
    "# finding the letter frequency for each letters A to Z\n",
    "def letter_freq(cipher, freq_arr, freq_len):\n",
    "    # placeholders variables\n",
    "    perc_str = \"%\"\n",
    "    for char in cipher:\n",
    "        # checks if letter is already in the array\n",
    "        if char in freq_arr:   \n",
    "            freq_arr[char] += 1\n",
    "        else:\n",
    "            freq_arr[char] = 1\n",
    "    \n",
    "    # runs through the array and calculates the percentages\n",
    "    for char2, amt in freq_arr.items():\n",
    "        # calculates the percentage and rounds to the nearest whole num\n",
    "        freq_arr[char2] = str(round((amt/freq_len)*100)) + perc_str\n",
    "    \n",
    "    print(\"Letter frequency percentage in the ciphertext is: \\n \" \n",
    "         + str(freq_arr))\n",
    "\n",
    "    return freq_arr\n",
    "\n",
    "\n",
    "# test functions\n",
    "lett_perc = letter_freq(cipherText, az_freq, cipher_len)"
   ]
  },
  {
   "attachments": {},
   "cell_type": "markdown",
   "metadata": {},
   "source": [
    "### Part b: \n",
    "**Decrypt the ciphertext with help of the relative letter frequency of the\n",
    "English language**\n"
   ]
  },
  {
   "cell_type": "code",
   "execution_count": null,
   "metadata": {},
   "outputs": [],
   "source": [
    "# replaces the most frequent letter in cipher with wiki_freq_table letters\n",
    "\n",
    "# an array that keeps tracks of the cipher key\n",
    "# EX: [ {Cipher: A, Key = F}...] \n",
    "\n",
    "# def replace(cipher_txt, ciph_let, wik_let):\n",
    "#     new_cipher = \"\"\n",
    "#     #for loop\n",
    "#     for char in cipher_txt:\n",
    "        \n",
    "\n",
    "#     #print "
   ]
  }
 ],
 "metadata": {
  "kernelspec": {
   "display_name": "Python 3",
   "language": "python",
   "name": "python3"
  },
  "language_info": {
   "codemirror_mode": {
    "name": "ipython",
    "version": 3
   },
   "file_extension": ".py",
   "mimetype": "text/x-python",
   "name": "python",
   "nbconvert_exporter": "python",
   "pygments_lexer": "ipython3",
   "version": "3.11.2"
  },
  "orig_nbformat": 4
 },
 "nbformat": 4,
 "nbformat_minor": 2
}
