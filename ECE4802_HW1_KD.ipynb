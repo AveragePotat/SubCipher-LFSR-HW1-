{
 "cells": [
  {
   "attachments": {},
   "cell_type": "markdown",
   "metadata": {},
   "source": [
    "## ECE 4802 Homework 1\n",
    "\n",
    "**Created by: Kena Dudac (KD)**<br>\n",
    "**Created on: 2023-03-23**<br>\n",
    ">**Last Editted on: 2023-03-24** "
   ]
  },
  {
   "cell_type": "code",
   "execution_count": 6,
   "metadata": {},
   "outputs": [],
   "source": [
    "#imported Libraries"
   ]
  },
  {
   "attachments": {},
   "cell_type": "markdown",
   "metadata": {},
   "source": [
    "## Question 1: \n",
    "**The ciphertext printed below was encrypted using a substitution cipher. The objective is to decrypt the ciphertext without knowledge of the key.**"
   ]
  },
  {
   "attachments": {},
   "cell_type": "markdown",
   "metadata": {},
   "source": [
    "### Part a: \n",
    "**Provide the relative frequency of all letters A...Z in the ciphertext.**\n"
   ]
  },
  {
   "cell_type": "code",
   "execution_count": 7,
   "metadata": {},
   "outputs": [
    {
     "name": "stdout",
     "output_type": "stream",
     "text": [
      "Letter frequency percentage in the ciphertext is: \n",
      " {'C': '13.67%', 'K': '4.28%', 'L': '4.56%', 'B': '9.12%', 'A': '6.84%', 'E': '5.29%', 'D': '7.84%', ' ': '17.05%', 'G': '7.57%', 'J': '3.65%', 'F': '6.93%', 'N': '2.19%', 'S': '2.19%', 'M': '3.37%', 'Q': '2.1%', 'I': '6.38%', 'U': '1.37%', 'H': '4.1%', '\\n': '1.46%', 'O': '1.73%', 'V': '0.82%', 'R': '1.37%', 'T': '0.82%', 'P': '1.73%', '-': '0.27%', 'Y': '0.27%', ';': '0.09%'}\n"
     ]
    }
   ],
   "source": [
    "# initializing ciphertext\n",
    "cipherText = '''CKCLBAELDK DGJ LFNSMBCA CGQEGCCAI JCUCKFS DGJ LACDBC SAFJMLBI BHDB LHDGQC BHC\n",
    "OFAKJ DGJ NDVC FMA KEUCI CDIECA BHC LCKK SHFGCI OC JCSCGJ FG BHC LFNSMBCAI MICJ EG\n",
    "GDBEFGDK ICLMAEBR DGJ BHC CKCLBAELDK IRIBCNI BHDB NDVC FMA LDAI FSCADBC OCAC DKK\n",
    "LACDBCJ TR CKCLBAELDK DGJ LFNSMBCA CGQEGCCAI DB OSE OC VCCS BHDB SAFQACII\n",
    "NFUEGQ PFAODAJ OEBH FMA EGGFUDBEUC ACICDALH DGJ FMB-FP-BHC TFY DSSAFDLHCI BHC\n",
    "JCSDABNCGB FP CKCLBAELDK DGJ LFNSMBCA CGQEGCCAEGQ DB OSE LHDKKCGQCI IBMJCGBI\n",
    "BF SMIH BHCNICKUCI BF MGJCAIBDGJ IFLECBRI DGJ BCLHGFKFQRI LFNSKCY EIIMCI EG D\n",
    "TAFDJCA LFGBCYB BHDG OHDBI EG PAFGB FP BHCN OC ODGB FMA IBMJCGBI OHCBHCA BHCR\n",
    "DAC CDAGEGQ DG MGJCAQADJMDBC NEGFA FA D JFLBFADBC BF BDLVKC IFLECBRI NFIB\n",
    "SACIIEGQ SAFTKCNI DGJ MGLFUCA GCO ODRI FP IFKUEGQ BHCN OHCBHCA EBI JCUCKFSEGQ\n",
    "IRIBCNI BHDB LDG KFLDBC PEACPEQHBCAI EG BHC NEJJKC FP D TMAGEGQ TMEKJEGQ FA\n",
    "LACDBEGQ GCMAFSAFIBHCBELI BHDB KFFV DGJ PMGLBEFG KEVC GDBMADK KENTI FMA\n",
    "PDLMKBR DGJ IBMJCGBI DAC DB BHC PAFGB CJQC FP ACNDAVDTKC EGGFUDBEFG OHEKC\n",
    "DJUDGLEGQ BCLHGFKFQECI EI DB FMA LFAC OC DKIF BDVC HMNDG LFGGCLBEFGI UCAR\n",
    "ICAEFMIKR EG CLC OC SAEJC FMAICKUCI FG BHC PDNEKR-KEVC DBNFISHCAC OC LMKBEUDBC;\n",
    "PDLMKBR IBMJCGBI DGJ IBDPP CGLFMADQC CDLH FBHCAI CUCAR IMLLCII DGJ DAC BHCAC PFA\n",
    "BHC LHDKKCGQCI TFBH EG BHC LKDIIAFFN DGJ EG KEPC'''\n",
    "cipherText2 = cipherText.replace(\" \", \"\")\n",
    "# length of cipher text\n",
    "cipher_len = len(cipherText2)\n",
    "# initializing empty variables\n",
    "az_freq = {}\n",
    "\n",
    "\n",
    "# finding the letter frequency for each letters A to Z\n",
    "def letter_freq(cipher, freq_arr, freq_len):\n",
    "    # placeholders variables\n",
    "    perc_str = \"%\"\n",
    "    for char in cipher:\n",
    "        # checks if letter is already in the array\n",
    "        if char in freq_arr:   \n",
    "            freq_arr[char] += 1\n",
    "        else:\n",
    "            freq_arr[char] = 1\n",
    "    \n",
    "    # runs through the array and calculates the percentages\n",
    "    for char2, amt in freq_arr.items():\n",
    "        # calculates the percentage and rounds to the nearest whole num\n",
    "        freq_arr[char2] = str(round(((amt/freq_len)*100) , 2)) + perc_str\n",
    "    \n",
    "    print(\"Letter frequency percentage in the ciphertext is: \\n \" \n",
    "         + str(freq_arr))\n",
    "\n",
    "    return freq_arr\n",
    "\n",
    "\n",
    "# test functions\n",
    "lett_perc = letter_freq(cipherText, az_freq, cipher_len)"
   ]
  },
  {
   "attachments": {},
   "cell_type": "markdown",
   "metadata": {},
   "source": [
    "### Part b: \n",
    "**Decrypt the ciphertext with help of the relative letter frequency of the\n",
    "English language**\n"
   ]
  },
  {
   "cell_type": "code",
   "execution_count": 8,
   "metadata": {},
   "outputs": [
    {
     "name": "stdout",
     "output_type": "stream",
     "text": [
      "\n",
      "electrical and computer engineers develop and create products that change the\n",
      "world and make our lives easier the cell phones we depend on the computers used in\n",
      "national security and the electrical systems that make our cars operate were all\n",
      "created by electrical and computer engineers at wpi we keep that progress\n",
      "moving forward with our innovative research and out-of-the box approaches the\n",
      "department of electrical and computer engineering at wpi challenges students\n",
      "to push themselves to understand societys and technologys complex issues in a\n",
      "broader context than whats in front of them we want our students whether they\n",
      "are earning an undergraduate minor or a doctorate to tackle societys most\n",
      "pressing problems and uncover new ways of solving them whether its developing\n",
      "systems that can locate firefighters in the middle of a burning building or\n",
      "creating neuroprosthetics that look and function like natural limbs our\n",
      "faculty and students are at the front edge of remarkable innovation while\n",
      "advancing technologies is at our core we also take human connections very\n",
      "seriously in ece we pride ourselves on the family-like atmosphere we cultivate;\n",
      "faculty students and staff encourage each others every success and are there for\n",
      "the challenges both in the classroom and in life\n"
     ]
    }
   ],
   "source": [
    "# Looking at patterns 1 attempt at a time\n",
    "attempt1 = cipherText.replace('C','e')\n",
    "attempt2 = attempt1.replace('B','t')\n",
    "attempt3 = attempt2.replace('D','a') \n",
    "attempt4 = attempt3.replace('A','r') \n",
    "attempt5 = attempt4.replace('Q','g')\n",
    "attempt6 = attempt5.replace('G','n')\n",
    "attempt7 = attempt6.replace('L','c')\n",
    "attempt8 = attempt7.replace('E','i')\n",
    "attempt9 = attempt8.replace('I','s')\n",
    "attempt10 = attempt9.replace('J','d')\n",
    "attempt11 = attempt10.replace('K','l')\n",
    "attempt12 = attempt11.replace('F','o')\n",
    "attempt13 = attempt12.replace('O','w')\n",
    "attempt14 = attempt13.replace('T','b')\n",
    "attempt15 = attempt14.replace('N','m')\n",
    "attempt16 = attempt15.replace('S','p')\n",
    "attempt17 = attempt16.replace('M','u')\n",
    "attempt18 = attempt17.replace('U','v')\n",
    "attempt19 = attempt18.replace('R','y')\n",
    "attempt20 = attempt19.replace('P','f')\n",
    "attempt21 = attempt20.replace('V','k')\n",
    "attempt22 = attempt21.replace('Y','x')\n",
    "attempt23 = attempt22.replace('H','h')\n",
    "print(\"\\n\" + attempt23)"
   ]
  },
  {
   "attachments": {},
   "cell_type": "markdown",
   "metadata": {},
   "source": [
    "### Part c: \n",
    "**Find the key and provide the plaintext**\n"
   ]
  },
  {
   "cell_type": "code",
   "execution_count": 9,
   "metadata": {},
   "outputs": [],
   "source": [
    "# replaces the most frequent letter in cipher with wiki_freq_table letters\n",
    "\n",
    "# an array that keeps tracks of the cipher key\n",
    "# EX: [ {Cipher: A, Key = F}...] \n",
    "\n",
    "# def replace(cipher_txt, ciph_let, wik_let):\n",
    "#     new_cipher = \"\"\n",
    "#     #for loop\n",
    "#     for char in cipher_txt:\n",
    "        \n",
    "\n",
    "#     #print "
   ]
  }
 ],
 "metadata": {
  "kernelspec": {
   "display_name": "Python 3",
   "language": "python",
   "name": "python3"
  },
  "language_info": {
   "codemirror_mode": {
    "name": "ipython",
    "version": 3
   },
   "file_extension": ".py",
   "mimetype": "text/x-python",
   "name": "python",
   "nbconvert_exporter": "python",
   "pygments_lexer": "ipython3",
   "version": "3.11.2"
  },
  "orig_nbformat": 4
 },
 "nbformat": 4,
 "nbformat_minor": 2
}
